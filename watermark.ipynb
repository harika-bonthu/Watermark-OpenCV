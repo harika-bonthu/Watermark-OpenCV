{
 "cells": [
  {
   "cell_type": "markdown",
   "metadata": {},
   "source": [
    "# Watermark Multiple images using OpenCV"
   ]
  },
  {
   "cell_type": "markdown",
   "metadata": {},
   "source": [
    "### Display a image"
   ]
  },
  {
   "cell_type": "code",
   "execution_count": null,
   "metadata": {},
   "outputs": [],
   "source": [
    "import cv2\n",
    "img = cv2.imread('images/deer.JPG')\n",
    "cv2.imshow(\"Original Image\", img)\n",
    "cv2.waitKey(0)\n",
    "cv2.destroyAllWindows()"
   ]
  },
  {
   "cell_type": "markdown",
   "metadata": {},
   "source": [
    "### Resize image - perserve aspect ratio"
   ]
  },
  {
   "cell_type": "code",
   "execution_count": null,
   "metadata": {},
   "outputs": [],
   "source": [
    "import cv2\n",
    "\n",
    "img = cv2.imread('images/deer.JPG')\n",
    "\n",
    "percent_of_scaling = 20\n",
    "new_width = int(img.shape[1] * percent_of_scaling/100)\n",
    "new_height = int(img.shape[0] * percent_of_scaling/100)\n",
    "new_dim = (new_width, new_height)\n",
    "\n",
    "resized_img = cv2.resize(img, new_dim, interpolation=cv2.INTER_AREA)\n",
    "\n",
    "filename = 'resized_img_aspect ratio.jpg'\n",
    "cv2.imwrite(filename, resized_img)\n",
    "\n",
    "cv2.imshow(\"Original Image\", img)\n",
    "cv2.imshow(\"Resized Image\", resized_img)\n",
    "cv2.waitKey(0)\n",
    "cv2.destroyAllWindows()"
   ]
  },
  {
   "cell_type": "markdown",
   "metadata": {},
   "source": [
    "### do not preserve aspect ratio"
   ]
  },
  {
   "cell_type": "code",
   "execution_count": null,
   "metadata": {},
   "outputs": [],
   "source": [
    "import cv2\n",
    "\n",
    "img = cv2.imread('images/deer.JPG')\n",
    "\n",
    "new_dim = (img.shape[1], 500)\n",
    "\n",
    "resized_img = cv2.resize(img, new_dim, interpolation=cv2.INTER_AREA)\n",
    "\n",
    "cv2.imshow(\"Original Image\", img)\n",
    "cv2.imshow(\"Resized Image\", resized_img)\n",
    "\n",
    "cv2.waitKey(0)\n",
    "cv2.destroyAllWindows()"
   ]
  },
  {
   "cell_type": "markdown",
   "metadata": {},
   "source": [
    "### Change both width and height to specific values"
   ]
  },
  {
   "cell_type": "code",
   "execution_count": null,
   "metadata": {},
   "outputs": [],
   "source": [
    "import cv2\n",
    "\n",
    "img = cv2.imread('images/deer.JPG')\n",
    "\n",
    "new_dim = (450, 450)\n",
    "\n",
    "resized_img = cv2.resize(img, new_dim, interpolation=cv2.INTER_AREA)\n",
    "\n",
    "cv2.imshow(\"Original Image\", img)\n",
    "cv2.imshow(\"Resized Image\", resized_img)\n",
    "\n",
    "cv2.waitKey(0)\n",
    "cv2.destroyAllWindows()"
   ]
  },
  {
   "cell_type": "markdown",
   "metadata": {},
   "source": [
    "### Watermark a single image"
   ]
  },
  {
   "cell_type": "code",
   "execution_count": null,
   "metadata": {},
   "outputs": [],
   "source": [
    "import cv2\n",
    "\n",
    "img = cv2.imread('images/deer.JPG')\n",
    "watermark = cv2.imread(\"watermark.PNG\")\n",
    "\n",
    "percent_of_scaling = 20\n",
    "new_width = int(img.shape[1] * percent_of_scaling/100)\n",
    "new_height = int(img.shape[0] * percent_of_scaling/100)\n",
    "new_dim = (new_width, new_height)\n",
    "resized_img = cv2.resize(img, new_dim, interpolation=cv2.INTER_AREA)\n",
    "\n",
    "wm_scale = 40\n",
    "wm_width = int(watermark.shape[1] * wm_scale/100)\n",
    "wm_height = int(watermark.shape[0] * wm_scale/100)\n",
    "wm_dim = (wm_width, wm_height)\n",
    "resized_wm = cv2.resize(watermark, wm_dim, interpolation=cv2.INTER_AREA)\n",
    "\n",
    "h_img, w_img, _ = resized_img.shape\n",
    "center_y = int(h_img/2)\n",
    "center_x = int(w_img/2)\n",
    "\n",
    "\n",
    "h_wm, w_wm, _ = resized_wm.shape\n",
    "top_y = center_y - int(h_wm/2)\n",
    "left_x = center_x - int(w_wm/2)\n",
    "bottom_y = top_y + h_wm\n",
    "right_x = left_x + w_wm\n",
    "\n",
    "# GET rectangular region of interest (ROI)\n",
    "roi = resized_img[top_y:bottom_y, left_x:right_x]\n",
    "\n",
    "result = cv2.addWeighted(roi, 1, resized_wm, 0.3, 0)\n",
    "\n",
    "resized_img[top_y:bottom_y, left_x:right_x] = result\n",
    "\n",
    "filename = 'watermarked_deer.jpg'\n",
    "cv2.imwrite(filename, resized_img)\n",
    "\n",
    "# cv2.imshow(\"Original Input Image\", img)\n",
    "cv2.imshow(\"Resized Input Image\", resized_img)\n",
    "# cv2.imshow(\"Resized Watermark\", resized_wm)\n",
    "\n",
    "cv2.waitKey(0)\n",
    "cv2.destroyAllWindows()"
   ]
  },
  {
   "cell_type": "markdown",
   "metadata": {},
   "source": [
    "**Creating a list of images**"
   ]
  },
  {
   "cell_type": "code",
   "execution_count": 1,
   "metadata": {},
   "outputs": [
    {
     "data": {
      "text/plain": [
       "['bird nest.jpg', 'blue crush.jpg', 'deer.jpg', 'sky.jpg', 'watermelon.jpg']"
      ]
     },
     "execution_count": 1,
     "metadata": {},
     "output_type": "execute_result"
    }
   ],
   "source": [
    "import os\n",
    "folderPath = \"images\"\n",
    "imgList = os.listdir(folderPath)\n",
    "imgList"
   ]
  },
  {
   "cell_type": "markdown",
   "metadata": {},
   "source": [
    "**Code to create watermark multiple images**"
   ]
  },
  {
   "cell_type": "code",
   "execution_count": 3,
   "metadata": {},
   "outputs": [],
   "source": [
    "import cv2\n",
    "watermark = cv2.imread(\"watermark.PNG\")\n",
    "wm_scale = 40\n",
    "wm_width = int(watermark.shape[1] * wm_scale/100)\n",
    "wm_height = int(watermark.shape[0] * wm_scale/100)\n",
    "wm_dim = (wm_width, wm_height)\n",
    "resized_wm = cv2.resize(watermark, wm_dim, interpolation=cv2.INTER_AREA)\n",
    "h_wm, w_wm, _ = resized_wm.shape\n",
    "    \n",
    "for image in  imgList:\n",
    "    img = cv2.imread(f'{folderPath}/{image}')\n",
    "    percent_of_scaling = 20\n",
    "    new_width = int(img.shape[1] * percent_of_scaling/100)\n",
    "    new_height = int(img.shape[0] * percent_of_scaling/100)\n",
    "    new_dim = (new_width, new_height)\n",
    "    resized_img = cv2.resize(img, new_dim, interpolation=cv2.INTER_AREA)\n",
    "    h_img, w_img, _ = resized_img.shape\n",
    "    \n",
    "    center_y = int(h_img/2)\n",
    "    center_x = int(w_img/2)\n",
    "\n",
    "    top_y = center_y - int(h_wm/2)\n",
    "    left_x = center_x - int(w_wm/2)\n",
    "    \n",
    "    bottom_y = top_y + h_wm\n",
    "    right_x = left_x + w_wm\n",
    "\n",
    "    roi = resized_img[top_y:bottom_y, left_x:right_x]\n",
    "\n",
    "    result = cv2.addWeighted(roi, 1, resized_wm, 0.3, 0)\n",
    "\n",
    "    resized_img[top_y:bottom_y, left_x:right_x] = result\n",
    "    filename = os.path.basename(image)\n",
    "    cv2.imwrite(\"watermarked images/watermarked_\"+filename, resized_img)\n",
    "\n",
    "    cv2.imshow(\"Watermarked Image\", resized_img)\n",
    "    cv2.waitKey(0)\n",
    "    cv2.destroyAllWindows()"
   ]
  },
  {
   "cell_type": "code",
   "execution_count": null,
   "metadata": {},
   "outputs": [],
   "source": []
  }
 ],
 "metadata": {
  "kernelspec": {
   "display_name": "Python 3",
   "language": "python",
   "name": "python3"
  },
  "language_info": {
   "codemirror_mode": {
    "name": "ipython",
    "version": 3
   },
   "file_extension": ".py",
   "mimetype": "text/x-python",
   "name": "python",
   "nbconvert_exporter": "python",
   "pygments_lexer": "ipython3",
   "version": "3.7.6"
  }
 },
 "nbformat": 4,
 "nbformat_minor": 4
}
